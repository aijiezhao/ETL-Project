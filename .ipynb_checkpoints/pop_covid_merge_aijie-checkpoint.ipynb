{
 "cells": [
  {
   "cell_type": "code",
   "execution_count": 1,
   "metadata": {},
   "outputs": [],
   "source": [
    "# Dependencies\n",
    "import pandas as pd"
   ]
  },
  {
   "cell_type": "code",
   "execution_count": 4,
   "metadata": {},
   "outputs": [
    {
     "data": {
      "text/html": [
       "<div>\n",
       "<style scoped>\n",
       "    .dataframe tbody tr th:only-of-type {\n",
       "        vertical-align: middle;\n",
       "    }\n",
       "\n",
       "    .dataframe tbody tr th {\n",
       "        vertical-align: top;\n",
       "    }\n",
       "\n",
       "    .dataframe thead th {\n",
       "        text-align: right;\n",
       "    }\n",
       "</style>\n",
       "<table border=\"1\" class=\"dataframe\">\n",
       "  <thead>\n",
       "    <tr style=\"text-align: right;\">\n",
       "      <th></th>\n",
       "      <th>ï»¿Title: Confirmed COVID-19 Cases and Deaths | KFF</th>\n",
       "      <th>Unnamed: 1</th>\n",
       "      <th>Unnamed: 2</th>\n",
       "      <th>Unnamed: 3</th>\n",
       "      <th>Unnamed: 4</th>\n",
       "      <th>Unnamed: 5</th>\n",
       "      <th>Unnamed: 6</th>\n",
       "    </tr>\n",
       "  </thead>\n",
       "  <tbody>\n",
       "    <tr>\n",
       "      <th>0</th>\n",
       "      <td>Timeframe: as of 9/14/2020 at 2:26PM</td>\n",
       "      <td>NaN</td>\n",
       "      <td>NaN</td>\n",
       "      <td>NaN</td>\n",
       "      <td>NaN</td>\n",
       "      <td>NaN</td>\n",
       "      <td>NaN</td>\n",
       "    </tr>\n",
       "    <tr>\n",
       "      <th>1</th>\n",
       "      <td>Location</td>\n",
       "      <td>Number of COVID-19 Cases</td>\n",
       "      <td>COVID-19 Cases per 1,000,000 Population</td>\n",
       "      <td>Deaths from COVID-19</td>\n",
       "      <td>COVID-19 Deaths per 1,000,000 Population</td>\n",
       "      <td>COVID-19 Fatality Rate</td>\n",
       "      <td>Footnotes</td>\n",
       "    </tr>\n",
       "    <tr>\n",
       "      <th>2</th>\n",
       "      <td>United States</td>\n",
       "      <td>6,535,105</td>\n",
       "      <td>19910</td>\n",
       "      <td>194,252</td>\n",
       "      <td>592</td>\n",
       "      <td>0.029724389</td>\n",
       "      <td>1</td>\n",
       "    </tr>\n",
       "    <tr>\n",
       "      <th>3</th>\n",
       "      <td>Alabama</td>\n",
       "      <td>139,459</td>\n",
       "      <td>28443</td>\n",
       "      <td>2,355</td>\n",
       "      <td>480</td>\n",
       "      <td>0.016886684</td>\n",
       "      <td>NaN</td>\n",
       "    </tr>\n",
       "    <tr>\n",
       "      <th>4</th>\n",
       "      <td>Alaska</td>\n",
       "      <td>6,343</td>\n",
       "      <td>8671</td>\n",
       "      <td>44</td>\n",
       "      <td>60</td>\n",
       "      <td>0.006936781</td>\n",
       "      <td>NaN</td>\n",
       "    </tr>\n",
       "  </tbody>\n",
       "</table>\n",
       "</div>"
      ],
      "text/plain": [
       "  ï»¿Title: Confirmed COVID-19 Cases and Deaths | KFF  \\\n",
       "0               Timeframe: as of 9/14/2020 at 2:26PM    \n",
       "1                                           Location    \n",
       "2                                      United States    \n",
       "3                                            Alabama    \n",
       "4                                             Alaska    \n",
       "\n",
       "                 Unnamed: 1                               Unnamed: 2  \\\n",
       "0                       NaN                                      NaN   \n",
       "1  Number of COVID-19 Cases  COVID-19 Cases per 1,000,000 Population   \n",
       "2                 6,535,105                                    19910   \n",
       "3                   139,459                                    28443   \n",
       "4                     6,343                                     8671   \n",
       "\n",
       "             Unnamed: 3                                Unnamed: 4  \\\n",
       "0                   NaN                                       NaN   \n",
       "1  Deaths from COVID-19  COVID-19 Deaths per 1,000,000 Population   \n",
       "2               194,252                                       592   \n",
       "3                 2,355                                       480   \n",
       "4                    44                                        60   \n",
       "\n",
       "               Unnamed: 5 Unnamed: 6  \n",
       "0                     NaN        NaN  \n",
       "1  COVID-19 Fatality Rate  Footnotes  \n",
       "2             0.029724389          1  \n",
       "3             0.016886684        NaN  \n",
       "4             0.006936781        NaN  "
      ]
     },
     "execution_count": 4,
     "metadata": {},
     "output_type": "execute_result"
    }
   ],
   "source": [
    "file = 'Covid Data.csv'\n",
    "df = pd.read_csv(file, encoding=\"ISO-8859-1\")\n",
    "df.head()"
   ]
  },
  {
   "cell_type": "code",
   "execution_count": null,
   "metadata": {},
   "outputs": [],
   "source": [
    "raw_data_info = {\n",
    "    \"customer_id\": [112, 403, 999, 543, 123],\n",
    "    \"name\": [\"John\", \"Kelly\", \"Sam\", \"April\", \"Bobbo\"],\n",
    "    \"email\": [\"jman@gmail\", \"kelly@aol.com\", \"sports@school.edu\", \"April@yahoo.com\", \"HeyImBobbo@msn.com\"]\n",
    "}\n",
    "info_df = pd.DataFrame(raw_data_info, columns=[\"customer_id\", \"name\", \"email\"])\n",
    "info_df"
   ]
  },
  {
   "cell_type": "code",
   "execution_count": null,
   "metadata": {},
   "outputs": [],
   "source": [
    "# Create DataFrames\n",
    "raw_data_items = {\n",
    "    \"customer_id\": [403, 112, 543, 999, 654],\n",
    "    \"item\": [\"soda\", \"chips\", \"TV\", \"Laptop\", \"Cooler\"],\n",
    "    \"cost\": [3.00, 4.50, 600, 900, 150]\n",
    "}\n",
    "items_df = pd.DataFrame(raw_data_items, columns=[\n",
    "                        \"customer_id\", \"item\", \"cost\"])\n",
    "items_df"
   ]
  },
  {
   "cell_type": "code",
   "execution_count": null,
   "metadata": {},
   "outputs": [],
   "source": [
    "# Merge two dataframes using an inner join\n",
    "merge_df = pd.merge(info_df, items_df, on=\"customer_id\")\n",
    "merge_df"
   ]
  },
  {
   "cell_type": "code",
   "execution_count": null,
   "metadata": {},
   "outputs": [],
   "source": [
    "# Merge two dataframes using an outer join\n",
    "merge_df = pd.merge(info_df, items_df, on=\"customer_id\", how=\"outer\")\n",
    "merge_df"
   ]
  },
  {
   "cell_type": "code",
   "execution_count": null,
   "metadata": {},
   "outputs": [],
   "source": [
    "# Merge two dataframes using a left join\n",
    "merge_df = pd.merge(info_df, items_df, on=\"customer_id\", how=\"left\")\n",
    "merge_df"
   ]
  },
  {
   "cell_type": "code",
   "execution_count": null,
   "metadata": {},
   "outputs": [],
   "source": [
    "# Merge two dataframes using a right join\n",
    "merge_df = pd.merge(info_df, items_df, on=\"customer_id\", how=\"right\")\n",
    "merge_df"
   ]
  }
 ],
 "metadata": {
  "anaconda-cloud": {},
  "kernelspec": {
   "display_name": "Python 3",
   "language": "python",
   "name": "python3"
  },
  "language_info": {
   "codemirror_mode": {
    "name": "ipython",
    "version": 3
   },
   "file_extension": ".py",
   "mimetype": "text/x-python",
   "name": "python",
   "nbconvert_exporter": "python",
   "pygments_lexer": "ipython3",
   "version": "3.7.6"
  }
 },
 "nbformat": 4,
 "nbformat_minor": 2
}
