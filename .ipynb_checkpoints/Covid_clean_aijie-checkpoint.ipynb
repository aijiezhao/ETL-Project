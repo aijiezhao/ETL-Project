{
 "cells": [
  {
   "cell_type": "code",
   "execution_count": 18,
   "metadata": {},
   "outputs": [
    {
     "name": "stdout",
     "output_type": "stream",
     "text": [
      "Requirement already satisfied: psycopg2 in c:\\users\\15309\\anaconda3\\envs\\python_data\\lib\\site-packages (2.8.6)\n",
      "Note: you may need to restart the kernel to use updated packages.\n"
     ]
    }
   ],
   "source": [
    "pip install psycopg2"
   ]
  },
  {
   "cell_type": "code",
   "execution_count": 19,
   "metadata": {},
   "outputs": [],
   "source": [
    "# Dependencies\n",
    "import pandas as pd\n",
    "from sqlalchemy import create_engine"
   ]
  },
  {
   "cell_type": "code",
   "execution_count": 2,
   "metadata": {
    "inputHidden": false,
    "outputHidden": false
   },
   "outputs": [],
   "source": [
    "# Name of the CSV file\n",
    "file = 'Covid Data.csv'"
   ]
  },
  {
   "cell_type": "code",
   "execution_count": 3,
   "metadata": {
    "inputHidden": false,
    "outputHidden": false
   },
   "outputs": [],
   "source": [
    "# The correct encoding must be used to read the CSV in pandas\n",
    "df = pd.read_csv(file, header=None)"
   ]
  },
  {
   "cell_type": "code",
   "execution_count": 4,
   "metadata": {
    "inputHidden": false,
    "outputHidden": false,
    "scrolled": true
   },
   "outputs": [
    {
     "data": {
      "text/html": [
       "<div>\n",
       "<style scoped>\n",
       "    .dataframe tbody tr th:only-of-type {\n",
       "        vertical-align: middle;\n",
       "    }\n",
       "\n",
       "    .dataframe tbody tr th {\n",
       "        vertical-align: top;\n",
       "    }\n",
       "\n",
       "    .dataframe thead th {\n",
       "        text-align: right;\n",
       "    }\n",
       "</style>\n",
       "<table border=\"1\" class=\"dataframe\">\n",
       "  <thead>\n",
       "    <tr style=\"text-align: right;\">\n",
       "      <th></th>\n",
       "      <th>0</th>\n",
       "      <th>1</th>\n",
       "      <th>2</th>\n",
       "      <th>3</th>\n",
       "      <th>4</th>\n",
       "      <th>5</th>\n",
       "      <th>6</th>\n",
       "    </tr>\n",
       "  </thead>\n",
       "  <tbody>\n",
       "    <tr>\n",
       "      <th>0</th>\n",
       "      <td>Title: Confirmed COVID-19 Cases and Deaths | KFF</td>\n",
       "      <td>NaN</td>\n",
       "      <td>NaN</td>\n",
       "      <td>NaN</td>\n",
       "      <td>NaN</td>\n",
       "      <td>NaN</td>\n",
       "      <td>NaN</td>\n",
       "    </tr>\n",
       "    <tr>\n",
       "      <th>1</th>\n",
       "      <td>Timeframe: as of 9/14/2020 at 2:26PM</td>\n",
       "      <td>NaN</td>\n",
       "      <td>NaN</td>\n",
       "      <td>NaN</td>\n",
       "      <td>NaN</td>\n",
       "      <td>NaN</td>\n",
       "      <td>NaN</td>\n",
       "    </tr>\n",
       "    <tr>\n",
       "      <th>2</th>\n",
       "      <td>Location</td>\n",
       "      <td>Number of COVID-19 Cases</td>\n",
       "      <td>COVID-19 Cases per 1,000,000 Population</td>\n",
       "      <td>Deaths from COVID-19</td>\n",
       "      <td>COVID-19 Deaths per 1,000,000 Population</td>\n",
       "      <td>COVID-19 Fatality Rate</td>\n",
       "      <td>Footnotes</td>\n",
       "    </tr>\n",
       "    <tr>\n",
       "      <th>3</th>\n",
       "      <td>United States</td>\n",
       "      <td>6,535,105</td>\n",
       "      <td>19910</td>\n",
       "      <td>194,252</td>\n",
       "      <td>592</td>\n",
       "      <td>0.029724389</td>\n",
       "      <td>1</td>\n",
       "    </tr>\n",
       "    <tr>\n",
       "      <th>4</th>\n",
       "      <td>Alabama</td>\n",
       "      <td>139,459</td>\n",
       "      <td>28443</td>\n",
       "      <td>2,355</td>\n",
       "      <td>480</td>\n",
       "      <td>0.016886684</td>\n",
       "      <td>NaN</td>\n",
       "    </tr>\n",
       "  </tbody>\n",
       "</table>\n",
       "</div>"
      ],
      "text/plain": [
       "                                                  0                         1  \\\n",
       "0  Title: Confirmed COVID-19 Cases and Deaths | KFF                       NaN   \n",
       "1              Timeframe: as of 9/14/2020 at 2:26PM                       NaN   \n",
       "2                                          Location  Number of COVID-19 Cases   \n",
       "3                                     United States                 6,535,105   \n",
       "4                                           Alabama                   139,459   \n",
       "\n",
       "                                         2                     3  \\\n",
       "0                                      NaN                   NaN   \n",
       "1                                      NaN                   NaN   \n",
       "2  COVID-19 Cases per 1,000,000 Population  Deaths from COVID-19   \n",
       "3                                    19910               194,252   \n",
       "4                                    28443                 2,355   \n",
       "\n",
       "                                          4                       5          6  \n",
       "0                                       NaN                     NaN        NaN  \n",
       "1                                       NaN                     NaN        NaN  \n",
       "2  COVID-19 Deaths per 1,000,000 Population  COVID-19 Fatality Rate  Footnotes  \n",
       "3                                       592             0.029724389          1  \n",
       "4                                       480             0.016886684        NaN  "
      ]
     },
     "execution_count": 4,
     "metadata": {},
     "output_type": "execute_result"
    }
   ],
   "source": [
    "# Preview of the DataFrame\n",
    "# Note that FIELD8 is likely a meaningless column\n",
    "df.head()"
   ]
  },
  {
   "cell_type": "code",
   "execution_count": 5,
   "metadata": {},
   "outputs": [
    {
     "data": {
      "text/html": [
       "<div>\n",
       "<style scoped>\n",
       "    .dataframe tbody tr th:only-of-type {\n",
       "        vertical-align: middle;\n",
       "    }\n",
       "\n",
       "    .dataframe tbody tr th {\n",
       "        vertical-align: top;\n",
       "    }\n",
       "\n",
       "    .dataframe thead th {\n",
       "        text-align: right;\n",
       "    }\n",
       "</style>\n",
       "<table border=\"1\" class=\"dataframe\">\n",
       "  <thead>\n",
       "    <tr style=\"text-align: right;\">\n",
       "      <th></th>\n",
       "      <th>0</th>\n",
       "      <th>1</th>\n",
       "      <th>2</th>\n",
       "      <th>3</th>\n",
       "      <th>4</th>\n",
       "      <th>5</th>\n",
       "      <th>6</th>\n",
       "    </tr>\n",
       "  </thead>\n",
       "  <tbody>\n",
       "    <tr>\n",
       "      <th>2</th>\n",
       "      <td>Location</td>\n",
       "      <td>Number of COVID-19 Cases</td>\n",
       "      <td>COVID-19 Cases per 1,000,000 Population</td>\n",
       "      <td>Deaths from COVID-19</td>\n",
       "      <td>COVID-19 Deaths per 1,000,000 Population</td>\n",
       "      <td>COVID-19 Fatality Rate</td>\n",
       "      <td>Footnotes</td>\n",
       "    </tr>\n",
       "    <tr>\n",
       "      <th>3</th>\n",
       "      <td>United States</td>\n",
       "      <td>6,535,105</td>\n",
       "      <td>19910</td>\n",
       "      <td>194,252</td>\n",
       "      <td>592</td>\n",
       "      <td>0.029724389</td>\n",
       "      <td>1</td>\n",
       "    </tr>\n",
       "    <tr>\n",
       "      <th>4</th>\n",
       "      <td>Alabama</td>\n",
       "      <td>139,459</td>\n",
       "      <td>28443</td>\n",
       "      <td>2,355</td>\n",
       "      <td>480</td>\n",
       "      <td>0.016886684</td>\n",
       "      <td>NaN</td>\n",
       "    </tr>\n",
       "    <tr>\n",
       "      <th>5</th>\n",
       "      <td>Alaska</td>\n",
       "      <td>6,343</td>\n",
       "      <td>8671</td>\n",
       "      <td>44</td>\n",
       "      <td>60</td>\n",
       "      <td>0.006936781</td>\n",
       "      <td>NaN</td>\n",
       "    </tr>\n",
       "    <tr>\n",
       "      <th>6</th>\n",
       "      <td>Arizona</td>\n",
       "      <td>208,512</td>\n",
       "      <td>28647</td>\n",
       "      <td>5,322</td>\n",
       "      <td>731</td>\n",
       "      <td>0.025523711</td>\n",
       "      <td>NaN</td>\n",
       "    </tr>\n",
       "  </tbody>\n",
       "</table>\n",
       "</div>"
      ],
      "text/plain": [
       "               0                         1  \\\n",
       "2       Location  Number of COVID-19 Cases   \n",
       "3  United States                 6,535,105   \n",
       "4        Alabama                   139,459   \n",
       "5         Alaska                     6,343   \n",
       "6        Arizona                   208,512   \n",
       "\n",
       "                                         2                     3  \\\n",
       "2  COVID-19 Cases per 1,000,000 Population  Deaths from COVID-19   \n",
       "3                                    19910               194,252   \n",
       "4                                    28443                 2,355   \n",
       "5                                     8671                    44   \n",
       "6                                    28647                 5,322   \n",
       "\n",
       "                                          4                       5          6  \n",
       "2  COVID-19 Deaths per 1,000,000 Population  COVID-19 Fatality Rate  Footnotes  \n",
       "3                                       592             0.029724389          1  \n",
       "4                                       480             0.016886684        NaN  \n",
       "5                                        60             0.006936781        NaN  \n",
       "6                                       731             0.025523711        NaN  "
      ]
     },
     "execution_count": 5,
     "metadata": {},
     "output_type": "execute_result"
    }
   ],
   "source": [
    "df = df.drop(index=[0, 1])\n",
    "df.head()"
   ]
  },
  {
   "cell_type": "code",
   "execution_count": 6,
   "metadata": {},
   "outputs": [
    {
     "data": {
      "text/html": [
       "<div>\n",
       "<style scoped>\n",
       "    .dataframe tbody tr th:only-of-type {\n",
       "        vertical-align: middle;\n",
       "    }\n",
       "\n",
       "    .dataframe tbody tr th {\n",
       "        vertical-align: top;\n",
       "    }\n",
       "\n",
       "    .dataframe thead th {\n",
       "        text-align: right;\n",
       "    }\n",
       "</style>\n",
       "<table border=\"1\" class=\"dataframe\">\n",
       "  <thead>\n",
       "    <tr style=\"text-align: right;\">\n",
       "      <th></th>\n",
       "      <th>Location</th>\n",
       "      <th>Number of COVID-19 Cases</th>\n",
       "      <th>COVID-19 Cases per 1,000,000 Population</th>\n",
       "      <th>Deaths from COVID-19</th>\n",
       "      <th>COVID-19 Deaths per 1,000,000 Population</th>\n",
       "      <th>COVID-19 Fatality Rate</th>\n",
       "      <th>Footnotes</th>\n",
       "    </tr>\n",
       "  </thead>\n",
       "  <tbody>\n",
       "    <tr>\n",
       "      <th>3</th>\n",
       "      <td>United States</td>\n",
       "      <td>6,535,105</td>\n",
       "      <td>19910</td>\n",
       "      <td>194,252</td>\n",
       "      <td>592</td>\n",
       "      <td>0.029724389</td>\n",
       "      <td>1</td>\n",
       "    </tr>\n",
       "    <tr>\n",
       "      <th>4</th>\n",
       "      <td>Alabama</td>\n",
       "      <td>139,459</td>\n",
       "      <td>28443</td>\n",
       "      <td>2,355</td>\n",
       "      <td>480</td>\n",
       "      <td>0.016886684</td>\n",
       "      <td>NaN</td>\n",
       "    </tr>\n",
       "    <tr>\n",
       "      <th>5</th>\n",
       "      <td>Alaska</td>\n",
       "      <td>6,343</td>\n",
       "      <td>8671</td>\n",
       "      <td>44</td>\n",
       "      <td>60</td>\n",
       "      <td>0.006936781</td>\n",
       "      <td>NaN</td>\n",
       "    </tr>\n",
       "    <tr>\n",
       "      <th>6</th>\n",
       "      <td>Arizona</td>\n",
       "      <td>208,512</td>\n",
       "      <td>28647</td>\n",
       "      <td>5,322</td>\n",
       "      <td>731</td>\n",
       "      <td>0.025523711</td>\n",
       "      <td>NaN</td>\n",
       "    </tr>\n",
       "    <tr>\n",
       "      <th>7</th>\n",
       "      <td>Arkansas</td>\n",
       "      <td>70,219</td>\n",
       "      <td>23268</td>\n",
       "      <td>981</td>\n",
       "      <td>325</td>\n",
       "      <td>0.013970578</td>\n",
       "      <td>NaN</td>\n",
       "    </tr>\n",
       "  </tbody>\n",
       "</table>\n",
       "</div>"
      ],
      "text/plain": [
       "        Location Number of COVID-19 Cases  \\\n",
       "3  United States                6,535,105   \n",
       "4        Alabama                  139,459   \n",
       "5         Alaska                    6,343   \n",
       "6        Arizona                  208,512   \n",
       "7       Arkansas                   70,219   \n",
       "\n",
       "  COVID-19 Cases per 1,000,000 Population Deaths from COVID-19  \\\n",
       "3                                   19910              194,252   \n",
       "4                                   28443                2,355   \n",
       "5                                    8671                   44   \n",
       "6                                   28647                5,322   \n",
       "7                                   23268                  981   \n",
       "\n",
       "  COVID-19 Deaths per 1,000,000 Population COVID-19 Fatality Rate Footnotes  \n",
       "3                                      592            0.029724389         1  \n",
       "4                                      480            0.016886684       NaN  \n",
       "5                                       60            0.006936781       NaN  \n",
       "6                                      731            0.025523711       NaN  \n",
       "7                                      325            0.013970578       NaN  "
      ]
     },
     "execution_count": 6,
     "metadata": {},
     "output_type": "execute_result"
    }
   ],
   "source": [
    "df = df.rename(columns=df.iloc[0]).drop(df.index[0])\n",
    "df.head()"
   ]
  },
  {
   "cell_type": "code",
   "execution_count": 7,
   "metadata": {},
   "outputs": [
    {
     "data": {
      "text/plain": [
       "Index(['Location', 'Number of COVID-19 Cases',\n",
       "       'COVID-19 Cases per 1,000,000 Population', 'Deaths from COVID-19',\n",
       "       'COVID-19 Deaths per 1,000,000 Population', 'COVID-19 Fatality Rate',\n",
       "       'Footnotes'],\n",
       "      dtype='object')"
      ]
     },
     "execution_count": 7,
     "metadata": {},
     "output_type": "execute_result"
    }
   ],
   "source": [
    "df.columns"
   ]
  },
  {
   "cell_type": "code",
   "execution_count": 8,
   "metadata": {},
   "outputs": [],
   "source": [
    "df.columns = ['state', 'number_covid_cases',\n",
    "       'COVID-19 Cases per 1,000,000 Population', 'number_of_deaths',\n",
    "       'COVID-19 Deaths per 1,000,000 Population', 'fatality_rate',\n",
    "       'Footnotes']"
   ]
  },
  {
   "cell_type": "code",
   "execution_count": 9,
   "metadata": {
    "inputHidden": false,
    "outputHidden": false
   },
   "outputs": [
    {
     "data": {
      "text/html": [
       "<div>\n",
       "<style scoped>\n",
       "    .dataframe tbody tr th:only-of-type {\n",
       "        vertical-align: middle;\n",
       "    }\n",
       "\n",
       "    .dataframe tbody tr th {\n",
       "        vertical-align: top;\n",
       "    }\n",
       "\n",
       "    .dataframe thead th {\n",
       "        text-align: right;\n",
       "    }\n",
       "</style>\n",
       "<table border=\"1\" class=\"dataframe\">\n",
       "  <thead>\n",
       "    <tr style=\"text-align: right;\">\n",
       "      <th></th>\n",
       "      <th>state</th>\n",
       "      <th>number_covid_cases</th>\n",
       "      <th>number_of_deaths</th>\n",
       "      <th>fatality_rate</th>\n",
       "    </tr>\n",
       "  </thead>\n",
       "  <tbody>\n",
       "    <tr>\n",
       "      <th>3</th>\n",
       "      <td>United States</td>\n",
       "      <td>6,535,105</td>\n",
       "      <td>194,252</td>\n",
       "      <td>0.029724389</td>\n",
       "    </tr>\n",
       "    <tr>\n",
       "      <th>4</th>\n",
       "      <td>Alabama</td>\n",
       "      <td>139,459</td>\n",
       "      <td>2,355</td>\n",
       "      <td>0.016886684</td>\n",
       "    </tr>\n",
       "    <tr>\n",
       "      <th>5</th>\n",
       "      <td>Alaska</td>\n",
       "      <td>6,343</td>\n",
       "      <td>44</td>\n",
       "      <td>0.006936781</td>\n",
       "    </tr>\n",
       "    <tr>\n",
       "      <th>6</th>\n",
       "      <td>Arizona</td>\n",
       "      <td>208,512</td>\n",
       "      <td>5,322</td>\n",
       "      <td>0.025523711</td>\n",
       "    </tr>\n",
       "    <tr>\n",
       "      <th>7</th>\n",
       "      <td>Arkansas</td>\n",
       "      <td>70,219</td>\n",
       "      <td>981</td>\n",
       "      <td>0.013970578</td>\n",
       "    </tr>\n",
       "  </tbody>\n",
       "</table>\n",
       "</div>"
      ],
      "text/plain": [
       "           state number_covid_cases number_of_deaths fatality_rate\n",
       "3  United States          6,535,105          194,252   0.029724389\n",
       "4        Alabama            139,459            2,355   0.016886684\n",
       "5         Alaska              6,343               44   0.006936781\n",
       "6        Arizona            208,512            5,322   0.025523711\n",
       "7       Arkansas             70,219              981   0.013970578"
      ]
     },
     "execution_count": 9,
     "metadata": {},
     "output_type": "execute_result"
    }
   ],
   "source": [
    "# Delete extraneous column\n",
    "df = df.drop(columns=['COVID-19 Cases per 1,000,000 Population', 'COVID-19 Deaths per 1,000,000 Population', 'Footnotes'], axis=1)\n",
    "df.head()"
   ]
  },
  {
   "cell_type": "code",
   "execution_count": 10,
   "metadata": {
    "inputHidden": false,
    "outputHidden": false
   },
   "outputs": [
    {
     "data": {
      "text/plain": [
       "state                 65\n",
       "number_covid_cases    57\n",
       "number_of_deaths      57\n",
       "fatality_rate         57\n",
       "dtype: int64"
      ]
     },
     "execution_count": 10,
     "metadata": {},
     "output_type": "execute_result"
    }
   ],
   "source": [
    "# Identify incomplete rows\n",
    "df.count()"
   ]
  },
  {
   "cell_type": "code",
   "execution_count": 11,
   "metadata": {
    "inputHidden": false,
    "outputHidden": false
   },
   "outputs": [],
   "source": [
    "# Drop all rows with missing information\n",
    "df = df.dropna(how='any')"
   ]
  },
  {
   "cell_type": "code",
   "execution_count": 12,
   "metadata": {
    "inputHidden": false,
    "outputHidden": false
   },
   "outputs": [
    {
     "data": {
      "text/plain": [
       "state                 57\n",
       "number_covid_cases    57\n",
       "number_of_deaths      57\n",
       "fatality_rate         57\n",
       "dtype: int64"
      ]
     },
     "execution_count": 12,
     "metadata": {},
     "output_type": "execute_result"
    }
   ],
   "source": [
    "# Verify dropped rows\n",
    "df.count()"
   ]
  },
  {
   "cell_type": "code",
   "execution_count": 13,
   "metadata": {
    "inputHidden": false,
    "outputHidden": false
   },
   "outputs": [
    {
     "data": {
      "text/plain": [
       "state                 object\n",
       "number_covid_cases    object\n",
       "number_of_deaths      object\n",
       "fatality_rate         object\n",
       "dtype: object"
      ]
     },
     "execution_count": 13,
     "metadata": {},
     "output_type": "execute_result"
    }
   ],
   "source": [
    "# The Amount column is the wrong data type. It should be numeric.\n",
    "df.dtypes"
   ]
  },
  {
   "cell_type": "code",
   "execution_count": 14,
   "metadata": {
    "inputHidden": false,
    "outputHidden": false
   },
   "outputs": [
    {
     "data": {
      "text/plain": [
       "state                 object\n",
       "number_covid_cases     int64\n",
       "number_of_deaths       int64\n",
       "fatality_rate         object\n",
       "dtype: object"
      ]
     },
     "execution_count": 14,
     "metadata": {},
     "output_type": "execute_result"
    }
   ],
   "source": [
    "# Use pd.to_numeric() method to convert the datatype of the Amount column\n",
    "df['number_covid_cases'] = df['number_covid_cases'].str.replace(',', '')\n",
    "df['number_of_deaths'] = df['number_of_deaths'].str.replace(',', '')\n",
    "df['number_covid_cases'] = pd.to_numeric(df['number_covid_cases'])\n",
    "#df['COVID-19 Cases per 1,000,000 Population'] = pd.to_numeric(df['COVID-19 Cases per 1,000,000 Population'])\n",
    "df['number_of_deaths'] = pd.to_numeric(df['number_of_deaths'])\n",
    "#df['COVID-19 Deaths per 1,000,000 Population'] = pd.to_numeric(df['COVID-19 Deaths per 1,000,000 Population'])\n",
    "df.dtypes"
   ]
  },
  {
   "cell_type": "code",
   "execution_count": 15,
   "metadata": {
    "inputHidden": false,
    "outputHidden": false
   },
   "outputs": [
    {
     "data": {
      "text/html": [
       "<div>\n",
       "<style scoped>\n",
       "    .dataframe tbody tr th:only-of-type {\n",
       "        vertical-align: middle;\n",
       "    }\n",
       "\n",
       "    .dataframe tbody tr th {\n",
       "        vertical-align: top;\n",
       "    }\n",
       "\n",
       "    .dataframe thead th {\n",
       "        text-align: right;\n",
       "    }\n",
       "</style>\n",
       "<table border=\"1\" class=\"dataframe\">\n",
       "  <thead>\n",
       "    <tr style=\"text-align: right;\">\n",
       "      <th></th>\n",
       "      <th>state</th>\n",
       "      <th>number_covid_cases</th>\n",
       "      <th>number_of_deaths</th>\n",
       "      <th>fatality_rate</th>\n",
       "    </tr>\n",
       "  </thead>\n",
       "  <tbody>\n",
       "    <tr>\n",
       "      <th>3</th>\n",
       "      <td>United States</td>\n",
       "      <td>6535105</td>\n",
       "      <td>194252</td>\n",
       "      <td>0.029724389</td>\n",
       "    </tr>\n",
       "    <tr>\n",
       "      <th>4</th>\n",
       "      <td>Alabama</td>\n",
       "      <td>139459</td>\n",
       "      <td>2355</td>\n",
       "      <td>0.016886684</td>\n",
       "    </tr>\n",
       "    <tr>\n",
       "      <th>5</th>\n",
       "      <td>Alaska</td>\n",
       "      <td>6343</td>\n",
       "      <td>44</td>\n",
       "      <td>0.006936781</td>\n",
       "    </tr>\n",
       "    <tr>\n",
       "      <th>6</th>\n",
       "      <td>Arizona</td>\n",
       "      <td>208512</td>\n",
       "      <td>5322</td>\n",
       "      <td>0.025523711</td>\n",
       "    </tr>\n",
       "    <tr>\n",
       "      <th>7</th>\n",
       "      <td>Arkansas</td>\n",
       "      <td>70219</td>\n",
       "      <td>981</td>\n",
       "      <td>0.013970578</td>\n",
       "    </tr>\n",
       "  </tbody>\n",
       "</table>\n",
       "</div>"
      ],
      "text/plain": [
       "           state  number_covid_cases  number_of_deaths fatality_rate\n",
       "3  United States             6535105            194252   0.029724389\n",
       "4        Alabama              139459              2355   0.016886684\n",
       "5         Alaska                6343                44   0.006936781\n",
       "6        Arizona              208512              5322   0.025523711\n",
       "7       Arkansas               70219               981   0.013970578"
      ]
     },
     "execution_count": 15,
     "metadata": {},
     "output_type": "execute_result"
    }
   ],
   "source": [
    "df.head()"
   ]
  },
  {
   "cell_type": "code",
   "execution_count": 16,
   "metadata": {},
   "outputs": [],
   "source": [
    "df.to_csv('Covid_clean.csv', index = False)"
   ]
  },
  {
   "cell_type": "code",
   "execution_count": 20,
   "metadata": {},
   "outputs": [],
   "source": [
    "rds_connection_string = \"postgres:postgres@localhost:5432/ETL_Project\"\n",
    "engine = create_engine(f'postgresql://{rds_connection_string}')"
   ]
  },
  {
   "cell_type": "code",
   "execution_count": 21,
   "metadata": {},
   "outputs": [
    {
     "data": {
      "text/plain": [
       "['obesity', 'covid_19', 'population']"
      ]
     },
     "execution_count": 21,
     "metadata": {},
     "output_type": "execute_result"
    }
   ],
   "source": [
    "engine.table_names()"
   ]
  },
  {
   "cell_type": "code",
   "execution_count": 23,
   "metadata": {},
   "outputs": [],
   "source": [
    "df.to_sql(name='covid_19', con=engine, if_exists='append', index=False)"
   ]
  },
  {
   "cell_type": "code",
   "execution_count": null,
   "metadata": {},
   "outputs": [],
   "source": []
  }
 ],
 "metadata": {
  "anaconda-cloud": {},
  "kernel_info": {
   "name": "python3"
  },
  "kernelspec": {
   "display_name": "Python 3",
   "language": "python",
   "name": "python3"
  },
  "language_info": {
   "codemirror_mode": {
    "name": "ipython",
    "version": 3
   },
   "file_extension": ".py",
   "mimetype": "text/x-python",
   "name": "python",
   "nbconvert_exporter": "python",
   "pygments_lexer": "ipython3",
   "version": "3.6.10"
  },
  "nteract": {
   "version": "0.2.0"
  }
 },
 "nbformat": 4,
 "nbformat_minor": 2
}
